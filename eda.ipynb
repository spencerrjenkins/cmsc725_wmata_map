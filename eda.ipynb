{
 "cells": [
  {
   "cell_type": "markdown",
   "id": "a88c4c45",
   "metadata": {},
   "source": [
    "# Metro Project"
   ]
  },
  {
   "cell_type": "markdown",
   "id": "f16a3173",
   "metadata": {},
   "source": [
    "## Setup"
   ]
  },
  {
   "cell_type": "markdown",
   "id": "7fe24695",
   "metadata": {},
   "source": [
    "### Imports"
   ]
  },
  {
   "cell_type": "code",
   "execution_count": 1,
   "id": "06d18afa-1474-4045-88c9-df66a2f8fc49",
   "metadata": {},
   "outputs": [
    {
     "name": "stdout",
     "output_type": "stream",
     "text": [
      "The autoreload extension is already loaded. To reload it, use:\n",
      "  %reload_ext autoreload\n"
     ]
    }
   ],
   "source": [
    "%load_ext autoreload\n",
    "%autoreload 2\n",
    "\n",
    "from funcs import *\n",
    "import geopandas as gpd\n",
    "import pandas as pd\n",
    "import numpy as np\n",
    "import contextily as cx\n",
    "import matplotlib.pyplot as plt\n",
    "from sklearn.neighbors import KernelDensity\n",
    "import itertools\n",
    "from libpysal import weights\n",
    "import networkx as nx\n",
    "import pickle\n",
    "from shapely.geometry import LineString, MultiLineString, Point"
   ]
  },
  {
   "cell_type": "markdown",
   "id": "3d77faf3",
   "metadata": {},
   "source": [
    "### Getting county list"
   ]
  },
  {
   "cell_type": "code",
   "execution_count": 15,
   "id": "5dba9537",
   "metadata": {},
   "outputs": [],
   "source": [
    "fips_path = \"data/state_and_county_fips_master.csv\"\n",
    "md_counties = [\"Prince George's County\", \"Montgomery County\"]\n",
    "va_counties = [\"Arlington County\", \"Alexandria city\", \"Fairfax County\", \"Fairfax city\", \"Falls Church city\", \"Loudoun County\"]\n",
    "states = [\"MD\", \"DC\", \"VA\"]\n",
    "\n",
    "md_codes = get_county_codes(fips_path, [\"MD\"], md_counties)\n",
    "va_codes = get_county_codes(fips_path, [\"VA\"], va_counties)\n",
    "county_shapes_df = load_shapefile(\"data/counties/c_18mr25.shp\")\n",
    "md_shapes_df = county_shapes_df[county_shapes_df['STATE'].isin(['MD'])]\n",
    "md_shapes_df = md_shapes_df[md_shapes_df['FIPS'].apply(lambda a: a[2:]).isin(md_codes)]\n",
    "va_shapes_df = county_shapes_df[county_shapes_df['STATE'].isin(['VA'])]\n",
    "va_shapes_df = va_shapes_df[va_shapes_df['FIPS'].apply(lambda a: a[2:]).isin(va_codes)]\n",
    "dc_shape_df = county_shapes_df[county_shapes_df['STATE'].isin(['DC'])]\n",
    "county_shapes_df = pd.concat([md_shapes_df,va_shapes_df,dc_shape_df])"
   ]
  },
  {
   "cell_type": "markdown",
   "id": "abe7ae91",
   "metadata": {},
   "source": [
    "### Getting Neighborhood Centroids"
   ]
  },
  {
   "cell_type": "code",
   "execution_count": 23,
   "id": "80fb7792",
   "metadata": {},
   "outputs": [
    {
     "name": "stderr",
     "output_type": "stream",
     "text": [
      "C:\\Users\\srjnk\\AppData\\Local\\Temp\\ipykernel_14420\\4024320617.py:4: UserWarning: Geometry is in a geographic CRS. Results from 'centroid' are likely incorrect. Use 'GeoSeries.to_crs()' to re-project geometries to a projected CRS before this operation.\n",
      "\n",
      "  arl_neighborhoods.geometry = arl_neighborhoods.centroid\n",
      "C:\\Users\\srjnk\\AppData\\Local\\Temp\\ipykernel_14420\\4024320617.py:6: UserWarning: Geometry is in a geographic CRS. Results from 'centroid' are likely incorrect. Use 'GeoSeries.to_crs()' to re-project geometries to a projected CRS before this operation.\n",
      "\n",
      "  md_neighborhoods.geometry = md_neighborhoods.centroid\n"
     ]
    }
   ],
   "source": [
    "arl_neighborhoods = load_geojson(\"data/neighborhoods/Arlington_Neighborhoods_Program_Areas.geojson\")[[\"NEIGHBORHOOD\",\"geometry\"]]\n",
    "arl_neighborhoods[\"NAME\"] = arl_neighborhoods[\"NEIGHBORHOOD\"]\n",
    "arl_neighborhoods.drop(\"NEIGHBORHOOD\", axis=1, inplace=True)\n",
    "arl_neighborhoods.geometry = arl_neighborhoods.centroid\n",
    "md_neighborhoods = load_geojson(\"data/neighborhoods/Maryland_Census_Designated_Areas_-_Census_Designated_Places_2020.geojson\")[[\"NAME\",\"geometry\"]]\n",
    "md_neighborhoods.geometry = md_neighborhoods.centroid\n",
    "dc_neighborhoods = load_geojson(\"data/neighborhoods/neighborhood-names-centroid.geojson\")[[\"NAME\",\"geometry\"]]\n",
    "neighborhoods_df = pd.concat([arl_neighborhoods,md_neighborhoods,dc_neighborhoods]).to_crs(epsg=3857)"
   ]
  },
  {
   "cell_type": "markdown",
   "id": "56165e9c",
   "metadata": {},
   "source": [
    "### Getting existing network"
   ]
  },
  {
   "cell_type": "code",
   "execution_count": 4,
   "id": "86fa9439",
   "metadata": {},
   "outputs": [
    {
     "data": {
      "text/plain": [
       "'dcs_df = load_shapefile(\"data/real_transit/dcs/DC_Streetcar_Routes.shp\").to_crs(epsg=3857)\\ndcs_df[\"color\"] = \\'brown\\'\\nmarc_df = load_shapefile(\"data/real_transit/marc/Maryland_Transit_-_MARC_Train_Lines.shp\").to_crs(epsg=3857)\\nmarc_df[\"color\"] = marc_df[\"Rail_Name\"].apply(lambda a: \\'#EFAD1D\\' if \\'Brunswick\\' in a else \\'#F15828\\' if \\'Camden\\' in a else \\'#C71F3E\\')\\nwmata_df = load_shapefile(\"data/real_transit/wmata/Metro_Lines_Regional.shp\").to_crs(epsg=3857)\\nwmata_df[\"color\"] = wmata_df[\"NAME\"].apply(lambda a: \\n    \\'#F9921D\\' if \\'orange\\' in a else \\n    \\'#A1A3A1\\' if \\'silver\\' in a else \\n    \\'#E41838\\' if \\'red\\' in a else\\n    \\'#FED201\\' if \\'yellow\\' in a else\\n    \\'#01A850\\' if \\'green\\' in a else\\n    \\'#0077C1\\')\\nvre_df = load_shapefile(\"data/real_transit/vre/Virginia_Railway_Express_Routes.shp\").to_crs(epsg=3857)\\nvre_df[\"color\"] = vre_df[\"RAILWAY_NM\"].apply(lambda a: \\'#156DB4\\' if \\'Manassas\\' in a else \\'#DD3534\\')\\npl_df = load_shapefile(\"data/real_transit/pl/PurpleLineAlignment.shp\").to_crs(epsg=3857)\\npl_df[\"color\"] = \"#793390\"'"
      ]
     },
     "execution_count": 4,
     "metadata": {},
     "output_type": "execute_result"
    }
   ],
   "source": [
    "'''dcs_df = load_shapefile(\"data/real_transit/dcs/DC_Streetcar_Routes.shp\").to_crs(epsg=3857)\n",
    "dcs_df[\"color\"] = 'brown'\n",
    "marc_df = load_shapefile(\"data/real_transit/marc/Maryland_Transit_-_MARC_Train_Lines.shp\").to_crs(epsg=3857)\n",
    "marc_df[\"color\"] = marc_df[\"Rail_Name\"].apply(lambda a: '#EFAD1D' if 'Brunswick' in a else '#F15828' if 'Camden' in a else '#C71F3E')\n",
    "wmata_df = load_shapefile(\"data/real_transit/wmata/Metro_Lines_Regional.shp\").to_crs(epsg=3857)\n",
    "wmata_df[\"color\"] = wmata_df[\"NAME\"].apply(lambda a: \n",
    "    '#F9921D' if 'orange' in a else \n",
    "    '#A1A3A1' if 'silver' in a else \n",
    "    '#E41838' if 'red' in a else\n",
    "    '#FED201' if 'yellow' in a else\n",
    "    '#01A850' if 'green' in a else\n",
    "    '#0077C1')\n",
    "vre_df = load_shapefile(\"data/real_transit/vre/Virginia_Railway_Express_Routes.shp\").to_crs(epsg=3857)\n",
    "vre_df[\"color\"] = vre_df[\"RAILWAY_NM\"].apply(lambda a: '#156DB4' if 'Manassas' in a else '#DD3534')\n",
    "pl_df = load_shapefile(\"data/real_transit/pl/PurpleLineAlignment.shp\").to_crs(epsg=3857)\n",
    "pl_df[\"color\"] = \"#793390\"'''"
   ]
  },
  {
   "cell_type": "code",
   "execution_count": 5,
   "id": "6d56240f",
   "metadata": {},
   "outputs": [
    {
     "data": {
      "text/plain": [
       "'md_df = load_shapefile(\"data/md/tl_2023_24_tabblock20.shp\")\\nmd_df = md_df[md_df[\"COUNTYFP20\"].isin(md_codes.tolist())].copy()\\nva_df = load_shapefile(\"data/va/tl_2023_51_tabblock20.shp\")\\nva_df = va_df[va_df[\"COUNTYFP20\"].isin(va_codes.tolist())].copy()\\ndc_df = load_shapefile(\"data/dc/tl_2023_11_tabblock20.shp\")\\ndf = pd.concat([md_df, va_df, dc_df], ignore_index=True)\\ndf = gpd.GeoDataFrame(df)\\ndf.to_crs(\"EPSG:4326\", inplace=True)\\ndf[\"SID\"] = df.index\\ndf[\"INTPTLON20\"] = df[\"INTPTLON20\"].astype(float)\\ndf[\"INTPTLAT20\"] = df[\"INTPTLAT20\"].astype(float)\\ndf[\"NEIGHBORS\"] = None\\ndf = compute_transit_potential(df)\\nsave_geojson(df, \"data/complete_region_df.geojson\")\\ndf = load_geojson(\"data/complete_region_df.geojson\")\\ndc_df = load_shapefile(\"data/dc/tl_2023_11_tabblock20.shp\")\\nextremities = [df[\"INTPTLON20\"].min(), df[\"INTPTLAT20\"].min(), df[\"INTPTLON20\"].max(), df[\"INTPTLAT20\"].max()]\\nextremities_dc = [dc_df[\"INTPTLON20\"].min(), dc_df[\"INTPTLAT20\"].min(), dc_df[\"INTPTLON20\"].max(), dc_df[\"INTPTLAT20\"].max()]\\ndf_map = df.to_crs(epsg=3857)\\nex_map = np.array([df_map.centroid.x.min(),df_map.centroid.y.min(),df_map.centroid.x.max(),df_map.centroid.y.max()])\\nnp.save(\"data/ex_map.npy\", ex_map)\\ndf_map_dc = dc_df.to_crs(epsg=3857)\\nex_map_dc = np.array([df_map_dc.centroid.x.min(),df_map_dc.centroid.y.min(),df_map_dc.centroid.x.max(),df_map_dc.centroid.y.max()])\\nnp.save(\"data/ex_map_dc.npy\", ex_map_dc)\\n\\nex_map = np.load(\"data/ex_map.npy\")\\nex_map_dc = np.load(\"data/ex_map_dc.npy\")\\ndcs_stations_df = load_geojson(\"data/real_transit/dcs/dc-streetcar-stops.geojson\")\\nmarc_stations_df = load_geojson(\"data/real_transit/marc/Maryland_Transit_-_MARC_Train_Stations.geojson\")\\npl_stations_df = load_geojson(\"data/real_transit/pl/Purple_Line_Stations.geojson\")\\nvre_stations_df = load_geojson(\"data/real_transit/vre/vre-stations.geojson\")\\nwmata_stations_df = load_geojson(\"data/real_transit/wmata/Metro_Stations_Regional.geojson\")\\nmc_stations_df = load_geojson(\"data/real_transit/mc/Maryland_Local_Transit_-_Montgomery_County_Ride_On_Stops.geojson\")\\nmta_stations_df = load_geojson(\"data/real_transit/mta/Maryland_Transit_-_MTA_Bus_Stops.geojson\")\\npgc_stations_df = load_geojson(\"data/real_transit/pgc/Maryland_Local_Transit_-_Prince_Georges_County_Transit_Stops.geojson\")\\nwmatabus_stations_df = load_geojson(\"data/real_transit/wmatabus/Metro_Bus_Stops.geojson\")\\nvbus_stations_df = filter_points_in_polygons(load_geojson(\"data/real_transit/vbus/virginia_bus_stops.geojson\"), county_shapes_df.geometry)\\npoints_gdf = pd.concat([dcs_stations_df.geometry, \\n                        marc_stations_df.geometry,\\n                        pl_stations_df.geometry, \\n                        vre_stations_df.geometry, \\n                        wmata_stations_df.geometry,\\n                        mc_stations_df.geometry,\\n                        mta_stations_df.geometry,\\n                        pgc_stations_df.geometry,\\n                        wmatabus_stations_df.geometry\\n])\\npoints_gdf = filter_points_in_polygons(points_gdf, county_shapes_df.geometry).to_crs(epsg=3857)\\n\\n# Drop duplicates based on x and y\\npoints_gdf = points_gdf.drop_duplicates().reset_index(drop=True)\\n\\nsave_geojson(gpd.GeoDataFrame(points_gdf),\"data/transit.geojson\")'"
      ]
     },
     "execution_count": 5,
     "metadata": {},
     "output_type": "execute_result"
    }
   ],
   "source": [
    "'''md_df = load_shapefile(\"data/md/tl_2023_24_tabblock20.shp\")\n",
    "md_df = md_df[md_df[\"COUNTYFP20\"].isin(md_codes.tolist())].copy()\n",
    "va_df = load_shapefile(\"data/va/tl_2023_51_tabblock20.shp\")\n",
    "va_df = va_df[va_df[\"COUNTYFP20\"].isin(va_codes.tolist())].copy()\n",
    "dc_df = load_shapefile(\"data/dc/tl_2023_11_tabblock20.shp\")\n",
    "df = pd.concat([md_df, va_df, dc_df], ignore_index=True)\n",
    "df = gpd.GeoDataFrame(df)\n",
    "df.to_crs(\"EPSG:4326\", inplace=True)\n",
    "df[\"SID\"] = df.index\n",
    "df[\"INTPTLON20\"] = df[\"INTPTLON20\"].astype(float)\n",
    "df[\"INTPTLAT20\"] = df[\"INTPTLAT20\"].astype(float)\n",
    "df[\"NEIGHBORS\"] = None\n",
    "df = compute_transit_potential(df)\n",
    "save_geojson(df, \"data/complete_region_df.geojson\")\n",
    "df = load_geojson(\"data/complete_region_df.geojson\")\n",
    "dc_df = load_shapefile(\"data/dc/tl_2023_11_tabblock20.shp\")\n",
    "extremities = [df[\"INTPTLON20\"].min(), df[\"INTPTLAT20\"].min(), df[\"INTPTLON20\"].max(), df[\"INTPTLAT20\"].max()]\n",
    "extremities_dc = [dc_df[\"INTPTLON20\"].min(), dc_df[\"INTPTLAT20\"].min(), dc_df[\"INTPTLON20\"].max(), dc_df[\"INTPTLAT20\"].max()]\n",
    "df_map = df.to_crs(epsg=3857)\n",
    "ex_map = np.array([df_map.centroid.x.min(),df_map.centroid.y.min(),df_map.centroid.x.max(),df_map.centroid.y.max()])\n",
    "np.save(\"data/ex_map.npy\", ex_map)\n",
    "df_map_dc = dc_df.to_crs(epsg=3857)\n",
    "ex_map_dc = np.array([df_map_dc.centroid.x.min(),df_map_dc.centroid.y.min(),df_map_dc.centroid.x.max(),df_map_dc.centroid.y.max()])\n",
    "np.save(\"data/ex_map_dc.npy\", ex_map_dc)\n",
    "\n",
    "ex_map = np.load(\"data/ex_map.npy\")\n",
    "ex_map_dc = np.load(\"data/ex_map_dc.npy\")\n",
    "dcs_stations_df = load_geojson(\"data/real_transit/dcs/dc-streetcar-stops.geojson\")\n",
    "marc_stations_df = load_geojson(\"data/real_transit/marc/Maryland_Transit_-_MARC_Train_Stations.geojson\")\n",
    "pl_stations_df = load_geojson(\"data/real_transit/pl/Purple_Line_Stations.geojson\")\n",
    "vre_stations_df = load_geojson(\"data/real_transit/vre/vre-stations.geojson\")\n",
    "wmata_stations_df = load_geojson(\"data/real_transit/wmata/Metro_Stations_Regional.geojson\")\n",
    "mc_stations_df = load_geojson(\"data/real_transit/mc/Maryland_Local_Transit_-_Montgomery_County_Ride_On_Stops.geojson\")\n",
    "mta_stations_df = load_geojson(\"data/real_transit/mta/Maryland_Transit_-_MTA_Bus_Stops.geojson\")\n",
    "pgc_stations_df = load_geojson(\"data/real_transit/pgc/Maryland_Local_Transit_-_Prince_Georges_County_Transit_Stops.geojson\")\n",
    "wmatabus_stations_df = load_geojson(\"data/real_transit/wmatabus/Metro_Bus_Stops.geojson\")\n",
    "vbus_stations_df = filter_points_in_polygons(load_geojson(\"data/real_transit/vbus/virginia_bus_stops.geojson\"), county_shapes_df.geometry)\n",
    "points_gdf = pd.concat([dcs_stations_df.geometry, \n",
    "                        marc_stations_df.geometry,\n",
    "                        pl_stations_df.geometry, \n",
    "                        vre_stations_df.geometry, \n",
    "                        wmata_stations_df.geometry,\n",
    "                        mc_stations_df.geometry,\n",
    "                        mta_stations_df.geometry,\n",
    "                        pgc_stations_df.geometry,\n",
    "                        wmatabus_stations_df.geometry\n",
    "])\n",
    "points_gdf = filter_points_in_polygons(points_gdf, county_shapes_df.geometry).to_crs(epsg=3857)\n",
    "\n",
    "# Drop duplicates based on x and y\n",
    "points_gdf = points_gdf.drop_duplicates().reset_index(drop=True)\n",
    "\n",
    "save_geojson(gpd.GeoDataFrame(points_gdf),\"data/transit.geojson\")'''"
   ]
  },
  {
   "cell_type": "code",
   "execution_count": 6,
   "id": "23846059",
   "metadata": {},
   "outputs": [],
   "source": [
    "'''df[\"point_likelihood\"] = df[\"transit_potential\"]\n",
    "l = list(set(get_points(df, extremities)))\n",
    "points = gpd.GeoDataFrame(df[df['SID'].isin(l)])\n",
    "save_geojson(points, \"data/graph_points.geojson\")\n",
    "points = load_geojson(\"data/graph_points.geojson\")\n",
    "combined_df_dc = load_geojson(\"data/dc/non-population-points/combined_df.geojson\")\n",
    "combined_df_md = load_geojson(\"data/md/non-population-points/combined_df.geojson\")\n",
    "combined_df_va = load_geojson(\"data/va/non-population-points/combined_df.geojson\")\n",
    "points = reset_and_concat(points, combined_df_dc, combined_df_md, combined_df_va)\n",
    "points = points[\"geometry\"]\n",
    "df_points = gpd.GeoDataFrame(geometry=points.centroid).drop_duplicates().reset_index(drop=True)\n",
    "df_points = pd.concat([df_points.to_crs(3857), load_geojson(\"data/transit.geojson\")]).reset_index(drop=True)\n",
    "save_geojson(df_points, \"data/complete_points.geojson\")'''\n",
    "df_points = load_geojson(\"data/complete_points.geojson\")"
   ]
  },
  {
   "cell_type": "markdown",
   "id": "8ec7b060",
   "metadata": {},
   "source": [
    "## Create Network"
   ]
  },
  {
   "cell_type": "markdown",
   "id": "c0ce0a9e",
   "metadata": {},
   "source": [
    "### KDE Heatmap"
   ]
  },
  {
   "cell_type": "code",
   "execution_count": 7,
   "id": "121cf2c2",
   "metadata": {},
   "outputs": [
    {
     "data": {
      "text/plain": [
       "'kde = plot_kde_heatmap(df_points)'"
      ]
     },
     "execution_count": 7,
     "metadata": {},
     "output_type": "execute_result"
    }
   ],
   "source": [
    "'''kde = plot_kde_heatmap(df_points)'''"
   ]
  },
  {
   "cell_type": "markdown",
   "id": "447650ae",
   "metadata": {},
   "source": [
    "### Gabriel Network"
   ]
  },
  {
   "cell_type": "code",
   "execution_count": 8,
   "id": "92a9f807",
   "metadata": {},
   "outputs": [
    {
     "data": {
      "text/plain": [
       "'pts_array = np.array(list(zip(df_points.geometry.x, df_points.geometry.y)))\\ngabriel = weights.Gabriel.from_dataframe(df_points, use_index=True, silence_warnings=True)\\nnetwork = gabriel.to_networkx()\\n\\ngabriel_contracted, new_positions = contract_louvain_communities_with_positions(\\n    network, {n: pts_array[n] for n in network.nodes()}, 0.07\\n)\\ngabriel_contracted = remove_isolated_nodes(gabriel_contracted)'"
      ]
     },
     "execution_count": 8,
     "metadata": {},
     "output_type": "execute_result"
    }
   ],
   "source": [
    "'''pts_array = np.array(list(zip(df_points.geometry.x, df_points.geometry.y)))\n",
    "gabriel = weights.Gabriel.from_dataframe(df_points, use_index=True, silence_warnings=True)\n",
    "network = gabriel.to_networkx()\n",
    "\n",
    "gabriel_contracted, new_positions = contract_louvain_communities_with_positions(\n",
    "    network, {n: pts_array[n] for n in network.nodes()}, 0.07\n",
    ")\n",
    "gabriel_contracted = remove_isolated_nodes(gabriel_contracted)'''"
   ]
  },
  {
   "cell_type": "code",
   "execution_count": 9,
   "id": "ace84a57",
   "metadata": {},
   "outputs": [
    {
     "data": {
      "text/plain": [
       "'assign_edge_weights(gabriel_contracted, new_positions)\\nradius=1000\\nassign_node_scores(gabriel_contracted, new_positions, kde, radius)\\nsave_graph_to_geojson(gabriel_contracted, new_positions, \"data/output/network.geojson\")\\nwith open(\"pickle/kde.pkl\", \"wb\") as f:   \\n    pickle.dump(kde, f)\\nwith open(\"pickle/graph.pkl\", \"wb\") as f:   \\n    pickle.dump(gabriel_contracted, f)\\nwith open(\"pickle/positions.pkl\", \"wb\") as f:   \\n    pickle.dump(new_positions, f)\\n%sx scp pickle/*.pkl spencerrjenkins@ssh.ocf.berkeley.edu:~/cmsc725_wmata_map/pickle'"
      ]
     },
     "execution_count": 9,
     "metadata": {},
     "output_type": "execute_result"
    }
   ],
   "source": [
    "'''assign_edge_weights(gabriel_contracted, new_positions)\n",
    "radius=1000\n",
    "assign_node_scores(gabriel_contracted, new_positions, kde, radius)\n",
    "save_graph_to_geojson(gabriel_contracted, new_positions, \"data/output/network.geojson\")\n",
    "with open(\"pickle/kde.pkl\", \"wb\") as f:   \n",
    "    pickle.dump(kde, f)\n",
    "with open(\"pickle/graph.pkl\", \"wb\") as f:   \n",
    "    pickle.dump(gabriel_contracted, f)\n",
    "with open(\"pickle/positions.pkl\", \"wb\") as f:   \n",
    "    pickle.dump(new_positions, f)\n",
    "%sx scp pickle/*.pkl spencerrjenkins@ssh.ocf.berkeley.edu:~/cmsc725_wmata_map/pickle'''"
   ]
  },
  {
   "cell_type": "markdown",
   "id": "1b151034",
   "metadata": {},
   "source": [
    "## Naive Network"
   ]
  },
  {
   "cell_type": "code",
   "execution_count": 10,
   "id": "5326380a",
   "metadata": {},
   "outputs": [
    {
     "data": {
      "text/plain": [
       "'lines, _,_ = perform_walks(\\n    gabriel_contracted, new_positions, num_walks=20, \\n    min_distance=45000, max_distance=100000, traversed_edges=set(), complete_traversed_edges=[])\\n#ax=plot_network(gabriel_contracted, new_positions, ex_map, width=0.5, alpha=0.5)\\n#ax=plot_walks(gabriel_contracted, new_positions, lines, ax, kde, ex_map)\\ngroups = group_assigner(lines,gabriel_contracted, new_positions, threshold=0.5)\\nstatus = mark_station_nodes(lines,gabriel_contracted,new_positions,min_station_dist=1000, groups=groups)\\nnames = assign_station_neighborhoods(new_positions, status, neighborhoods_df)\\nsave_lines_to_geojson(lines, gabriel_contracted, new_positions, kde, \"data/output/lines_naive.geojson\", status, groups, names)'"
      ]
     },
     "execution_count": 10,
     "metadata": {},
     "output_type": "execute_result"
    }
   ],
   "source": [
    "'''lines, _,_ = perform_walks(\n",
    "    gabriel_contracted, new_positions, num_walks=20, \n",
    "    min_distance=45000, max_distance=100000, traversed_edges=set(), complete_traversed_edges=[])\n",
    "#ax=plot_network(gabriel_contracted, new_positions, ex_map, width=0.5, alpha=0.5)\n",
    "#ax=plot_walks(gabriel_contracted, new_positions, lines, ax, kde, ex_map)\n",
    "groups = group_assigner(lines,gabriel_contracted, new_positions, threshold=0.5)\n",
    "status = mark_station_nodes(lines,gabriel_contracted,new_positions,min_station_dist=1000, groups=groups)\n",
    "names = assign_station_neighborhoods(new_positions, status, neighborhoods_df)\n",
    "save_lines_to_geojson(lines, gabriel_contracted, new_positions, kde, \"data/output/lines_naive.geojson\", status, groups, names)'''"
   ]
  },
  {
   "cell_type": "code",
   "execution_count": 11,
   "id": "32b27cdd",
   "metadata": {},
   "outputs": [
    {
     "data": {
      "text/plain": [
       "'lines, traversed_edges, complete_traversed_edges = perform_walks(\\n    gabriel_contracted, new_positions, num_walks=20, \\n    min_distance=45000, max_distance=100000, traversed_edges=set(), complete_traversed_edges=[])\\nfor i in range(100):\\n    lines, traversed_edges, complete_traversed_edges = replace_lowest_scoring_walk(\\n        lines, new_positions, kde, gabriel_contracted, traversed_edges, complete_traversed_edges, \\n        min_distance=45000, max_distance=100000, radius=radius)\\n#ax=plot_network(gabriel_contracted, new_positions, ex_map, width=0.5, alpha=0.5)\\n#ax=plot_walks(gabriel_contracted, new_positions, lines, ax, kde, ex_map)\\ngroups = group_assigner(lines,gabriel_contracted, new_positions, threshold=0.5)\\nstatus = mark_station_nodes(lines,gabriel_contracted,new_positions,min_station_dist=1000, groups=groups)\\nnames = assign_station_neighborhoods(new_positions, status, neighborhoods_df)\\nsave_lines_to_geojson(lines, gabriel_contracted, new_positions, kde, \"data/output/lines_iterative.geojson\", status, groups, names)'"
      ]
     },
     "execution_count": 11,
     "metadata": {},
     "output_type": "execute_result"
    }
   ],
   "source": [
    "'''lines, traversed_edges, complete_traversed_edges = perform_walks(\n",
    "    gabriel_contracted, new_positions, num_walks=20, \n",
    "    min_distance=45000, max_distance=100000, traversed_edges=set(), complete_traversed_edges=[])\n",
    "for i in range(100):\n",
    "    lines, traversed_edges, complete_traversed_edges = replace_lowest_scoring_walk(\n",
    "        lines, new_positions, kde, gabriel_contracted, traversed_edges, complete_traversed_edges, \n",
    "        min_distance=45000, max_distance=100000, radius=radius)\n",
    "#ax=plot_network(gabriel_contracted, new_positions, ex_map, width=0.5, alpha=0.5)\n",
    "#ax=plot_walks(gabriel_contracted, new_positions, lines, ax, kde, ex_map)\n",
    "groups = group_assigner(lines,gabriel_contracted, new_positions, threshold=0.5)\n",
    "status = mark_station_nodes(lines,gabriel_contracted,new_positions,min_station_dist=1000, groups=groups)\n",
    "names = assign_station_neighborhoods(new_positions, status, neighborhoods_df)\n",
    "save_lines_to_geojson(lines, gabriel_contracted, new_positions, kde, \"data/output/lines_iterative.geojson\", status, groups, names)'''"
   ]
  },
  {
   "cell_type": "markdown",
   "id": "c6557453",
   "metadata": {},
   "source": [
    "## Genetic"
   ]
  },
  {
   "cell_type": "code",
   "execution_count": 12,
   "id": "efa70df1",
   "metadata": {},
   "outputs": [
    {
     "data": {
      "text/plain": [
       "'with open(\"pickle/best_routes.pkl\", \"rb\") as f:   \\n    best_routes = pickle.load(f)\\nwith open(\"pickle/best_score.pkl\", \"rb\") as f:   \\n    best_score = pickle.load(f)\\nwith open(\"pickle/log.pkl\", \"rb\") as f:   \\n    log = pickle.load(f)\\ngroups = group_assigner(best_routes,gabriel_contracted, new_positions, threshold=0.3)\\nstatus = mark_station_nodes(best_routes,gabriel_contracted,new_positions,min_station_dist=1000, groups=groups)\\nnames = assign_station_neighborhoods(new_positions, status, neighborhoods_df)\\nsave_lines_to_geojson(best_routes, gabriel_contracted, new_positions, kde, \"data/output/lines_genetic.geojson\", status, groups, names)'"
      ]
     },
     "execution_count": 12,
     "metadata": {},
     "output_type": "execute_result"
    }
   ],
   "source": [
    "'''%sx scp spencerrjenkins@ssh.ocf.berkeley.edu:~/cmsc725_wmata_map/pickle/*.pkl ./pickle/'''\n",
    "'''with open(\"pickle/graph.pkl\", \"rb\") as f:   \n",
    "    gabriel_contracted = pickle.load(f)\n",
    "with open(\"pickle/positions.pkl\", \"rb\") as f:   \n",
    "    new_positions = pickle.load(f)\n",
    "with open(\"pickle/kde.pkl\", \"rb\") as f:   \n",
    "    kde = pickle.load(f)\n",
    "with open(\"pickle/ex_map_dc.pkl\", \"rb\") as f:   \n",
    "    ex_map_dc = pickle.load(f)'''\n",
    "'''with open(\"pickle/best_routes.pkl\", \"rb\") as f:   \n",
    "    best_routes = pickle.load(f)\n",
    "with open(\"pickle/best_score.pkl\", \"rb\") as f:   \n",
    "    best_score = pickle.load(f)\n",
    "with open(\"pickle/log.pkl\", \"rb\") as f:   \n",
    "    log = pickle.load(f)\n",
    "groups = group_assigner(best_routes,gabriel_contracted, new_positions, threshold=0.3)\n",
    "status = mark_station_nodes(best_routes,gabriel_contracted,new_positions,min_station_dist=1000, groups=groups)\n",
    "names = assign_station_neighborhoods(new_positions, status, neighborhoods_df)\n",
    "save_lines_to_geojson(best_routes, gabriel_contracted, new_positions, kde, \"data/output/lines_genetic.geojson\", status, groups, names)'''"
   ]
  },
  {
   "cell_type": "code",
   "execution_count": 49,
   "id": "8a301943",
   "metadata": {},
   "outputs": [],
   "source": [
    "with open(\"pickle/graph.pkl\", \"rb\") as f:\n",
    "    gabriel_contracted = pickle.load(f)\n",
    "with open(\"pickle/positions.pkl\", \"rb\") as f:\n",
    "    new_positions = pickle.load(f)\n",
    "with open(\"pickle/kde.pkl\", \"rb\") as f:\n",
    "    kde = pickle.load(f)\n",
    "with open(\"pickle/ex_map_dc.pkl\", \"rb\") as f:\n",
    "    ex_map_dc = pickle.load(f)\n",
    "points = load_geojson(\"data/graph_points.geojson\")\n",
    "combined_df_dc = load_geojson(\"data/dc/non-population-points/combined_df.geojson\")\n",
    "combined_df_md = load_geojson(\"data/md/non-population-points/combined_df.geojson\")\n",
    "combined_df_va = load_geojson(\"data/va/non-population-points/combined_df.geojson\")\n",
    "points = reset_and_concat(points, combined_df_dc, combined_df_md, combined_df_va)\n",
    "points = points[\"geometry\"]\n",
    "points = points.to_crs(epsg=3857)\n",
    "df_points = gpd.GeoDataFrame(geometry=points.centroid).drop_duplicates().reset_index(drop=True)\n",
    "lines_naive, status_naive, groups_naive, names_naive = load_lines_from_geojson(\"./data/output/lines_naive.geojson\")\n",
    "lines_iter, status_iter, groups_iter, names_iter = load_lines_from_geojson(\"./data/output/lines_iterative.geojson\")\n",
    "lines_genetic, status_genetic, groups_genetic, names_genetic = load_lines_from_geojson(\"./data/output/lines_genetic.geojson\")\n",
    "wmata_stations_df = load_geojson(\"data/real_transit/wmata/Metro_Stations_Regional.geojson\")\n",
    "blocks = load_geojson(\"data/complete_region_df.geojson\").to_crs(epsg=3857)\n",
    "popkde = population_density_kde(blocks)"
   ]
  },
  {
   "cell_type": "code",
   "execution_count": 62,
   "id": "eac5b27b",
   "metadata": {},
   "outputs": [
    {
     "data": {
      "text/plain": [
       "(np.float64(17.471108089734873),\n",
       " np.float64(6.6115702479338845),\n",
       " 11028.791073538747,\n",
       " 916.2676772935321)"
      ]
     },
     "execution_count": 62,
     "metadata": {},
     "output_type": "execute_result"
    }
   ],
   "source": [
    "from funcs import *\n",
    "a=gpd.GeoDataFrame(geometry=list(Point(i) if status_genetic[i] else Point([1,1]) for i in status_genetic))\n",
    "a.crs='4326'\n",
    "a = a.to_crs(epsg=3857)\n",
    "station_gdf_catchment_coverage(\n",
    "    a,\n",
    "    df_points), station_gdf_catchment_coverage(\n",
    "    a, neighborhoods_df),average_distance_to_points_within_polygon(\n",
    "    a,combine_polygons_to_single(county_shapes_df.to_crs(epsg=3857))),average_distance_to_points_within_polygon(\n",
    "    a,dc_shape_df.to_crs(epsg=3857).iloc[0].geometry)"
   ]
  },
  {
   "cell_type": "code",
   "execution_count": null,
   "id": "5b01810e",
   "metadata": {},
   "outputs": [
    {
     "data": {
      "text/plain": [
       "(np.float64(24.1162474507138),\n",
       " np.float64(4.958677685950414),\n",
       " 11193.393076589782,\n",
       " 1667.2053960291078)"
      ]
     },
     "execution_count": 33,
     "metadata": {},
     "output_type": "execute_result"
    }
   ],
   "source": [
    "a=gpd.GeoDataFrame(geometry=list(Point(i) if status_iter[i] else Point([1,1]) for i in status_iter))\n",
    "a.crs='4326'\n",
    "a = a.to_crs(epsg=3857)\n",
    "station_gdf_catchment_coverage(\n",
    "    a,\n",
    "    df_points), station_gdf_catchment_coverage(\n",
    "    a, neighborhoods_df),average_distance_to_points_within_polygon(\n",
    "    a,combine_polygons_to_single(county_shapes_df.to_crs(epsg=3857))),average_distance_to_points_within_polygon(\n",
    "    a,dc_shape_df.to_crs(epsg=3857).iloc[0].geometry), estimate_population_in_catchments(\n",
    "    popkde, a, catchment_radius=500, grid_resolution=100)"
   ]
  },
  {
   "cell_type": "code",
   "execution_count": null,
   "id": "9cd82991",
   "metadata": {},
   "outputs": [
    {
     "data": {
      "text/plain": [
       "(np.float64(18.949694085656017),\n",
       " np.float64(3.994490358126722),\n",
       " 10856.134057332005,\n",
       " 1586.2258374218466)"
      ]
     },
     "execution_count": 45,
     "metadata": {},
     "output_type": "execute_result"
    }
   ],
   "source": [
    "a=gpd.GeoDataFrame(geometry=list(Point(i) if status_naive[i] else Point([1,1]) for i in status_naive))\n",
    "a.crs='4326'\n",
    "a = a.to_crs(epsg=3857)\n",
    "station_gdf_catchment_coverage(\n",
    "    a,\n",
    "    df_points), station_gdf_catchment_coverage(\n",
    "    a, neighborhoods_df),average_distance_to_points_within_polygon(\n",
    "    a,combine_polygons_to_single(county_shapes_df.to_crs(epsg=3857))),average_distance_to_points_within_polygon(\n",
    "    a,dc_shape_df.to_crs(epsg=3857).iloc[0].geometry), estimate_population_in_catchments(\n",
    "    popkde, a, catchment_radius=500, grid_resolution=100)"
   ]
  },
  {
   "cell_type": "code",
   "execution_count": null,
   "id": "9bd3f59c",
   "metadata": {},
   "outputs": [
    {
     "data": {
      "text/plain": [
       "(np.float64(13.392250169952414),\n",
       " np.float64(3.0303030303030303),\n",
       " 14940.644861813917,\n",
       " 1592.1486479335385)"
      ]
     },
     "execution_count": 35,
     "metadata": {},
     "output_type": "execute_result"
    }
   ],
   "source": [
    "a=wmata_stations_df.to_crs(epsg=3857)\n",
    "a.crs='4326'\n",
    "a = a.to_crs(epsg=3857)\n",
    "station_gdf_catchment_coverage(\n",
    "    a,\n",
    "    df_points), station_gdf_catchment_coverage(\n",
    "    a, neighborhoods_df),average_distance_to_points_within_polygon(\n",
    "    a,combine_polygons_to_single(county_shapes_df.to_crs(epsg=3857))),average_distance_to_points_within_polygon(\n",
    "    a,dc_shape_df.to_crs(epsg=3857).iloc[0].geometry), estimate_population_in_catchments(\n",
    "    popkde, a, catchment_radius=500, grid_resolution=100)"
   ]
  },
  {
   "cell_type": "code",
   "execution_count": 54,
   "id": "eea12cda",
   "metadata": {},
   "outputs": [
    {
     "data": {
      "text/plain": [
       "np.float64(0.06800970470971124)"
      ]
     },
     "execution_count": 54,
     "metadata": {},
     "output_type": "execute_result"
    }
   ],
   "source": [
    "estimate_population_in_catchments(\n",
    "    popkde, a, catchment_radius=500, grid_resolution=10)"
   ]
  },
  {
   "cell_type": "code",
   "execution_count": 60,
   "id": "0d76e300",
   "metadata": {},
   "outputs": [
    {
     "data": {
      "text/plain": [
       "array([-21.97564391])"
      ]
     },
     "execution_count": 60,
     "metadata": {},
     "output_type": "execute_result"
    }
   ],
   "source": [
    "popkde.score_samples([[a.iloc[0].geometry.x, a.iloc[0].geometry.y]])"
   ]
  }
 ],
 "metadata": {
  "kernelspec": {
   "display_name": "venv",
   "language": "python",
   "name": "python3"
  },
  "language_info": {
   "codemirror_mode": {
    "name": "ipython",
    "version": 3
   },
   "file_extension": ".py",
   "mimetype": "text/x-python",
   "name": "python",
   "nbconvert_exporter": "python",
   "pygments_lexer": "ipython3",
   "version": "3.13.3"
  }
 },
 "nbformat": 4,
 "nbformat_minor": 5
}
